{
 "cells": [
  {
   "cell_type": "code",
   "execution_count": 2,
   "id": "749389cc",
   "metadata": {},
   "outputs": [
    {
     "name": "stdout",
     "output_type": "stream",
     "text": [
      "my name is kanishka and am from india\n"
     ]
    }
   ],
   "source": [
    "letter = 'my name is {0} and am from {1}'\n",
    "name = 'kanishka'\n",
    "country = 'india'\n",
    "print(letter.format(name,country))"
   ]
  },
  {
   "cell_type": "code",
   "execution_count": 5,
   "id": "de633382",
   "metadata": {},
   "outputs": [
    {
     "name": "stdout",
     "output_type": "stream",
     "text": [
      "my name is kanishka and am from india\n"
     ]
    }
   ],
   "source": [
    "## using 'f_strings'\n",
    "letter = 'my name is {0} and am from {1}'\n",
    "name = 'kanishka'\n",
    "country = 'india'\n",
    "print(f'my name is {name} and am from {country}')"
   ]
  },
  {
   "cell_type": "code",
   "execution_count": 7,
   "id": "c0e555d7",
   "metadata": {},
   "outputs": [
    {
     "name": "stdout",
     "output_type": "stream",
     "text": [
      "December25,2023\n"
     ]
    }
   ],
   "source": [
    "# print today's date and tym\n",
    "import datetime\n",
    "today = datetime.datetime.today()\n",
    "print(f'{today:%B%d,%Y}')"
   ]
  },
  {
   "cell_type": "code",
   "execution_count": null,
   "id": "499da32e",
   "metadata": {},
   "outputs": [],
   "source": []
  }
 ],
 "metadata": {
  "kernelspec": {
   "display_name": "Python 3 (ipykernel)",
   "language": "python",
   "name": "python3"
  },
  "language_info": {
   "codemirror_mode": {
    "name": "ipython",
    "version": 3
   },
   "file_extension": ".py",
   "mimetype": "text/x-python",
   "name": "python",
   "nbconvert_exporter": "python",
   "pygments_lexer": "ipython3",
   "version": "3.12.4"
  }
 },
 "nbformat": 4,
 "nbformat_minor": 5
}
